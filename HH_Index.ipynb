{
 "cells": [
  {
   "cell_type": "code",
   "execution_count": 2,
   "metadata": {},
   "outputs": [],
   "source": [
    "import pandas as pd\n",
    "import numpy as np\n",
    "import os\n",
    "#Mac\n",
    "#os.chdir('/Users/yaircardenasavila/Desktop/Github_repo')\n",
    "#Windows\n",
    "os.chdir(r'C:\\Users\\armando_cardenas\\Desktop\\Github_repo\\HH_Index')"
   ]
  },
  {
   "cell_type": "code",
   "execution_count": 6,
   "metadata": {},
   "outputs": [
    {
     "name": "stderr",
     "output_type": "stream",
     "text": [
      "<>:4: SyntaxWarning: invalid escape sequence '\\H'\n",
      "<>:4: SyntaxWarning: invalid escape sequence '\\H'\n",
      "C:\\Users\\armando_cardenas\\AppData\\Local\\Temp\\ipykernel_8860\\4221289730.py:4: SyntaxWarning: invalid escape sequence '\\H'\n",
      "  base_2026 = pd.read_excel('HH_Index\\HH_Index\\Fases de anteproyecto 2026 actualización de componentes transversalidad (1).xlsx', skiprows=1, usecols=cols_2026,\n"
     ]
    }
   ],
   "source": [
    "cols_2026 = ['Clave Unidad Presupuestal', 'Unidad Presupuestal', 'Clave Unidad Responsable', 'Unidad Responsable', 'Clave Programa Presupuestario', 'Programa Presupuestario', \n",
    "        'Clave Componente', 'Componente', 'Clave Destino del Gasto Específico', 'Destino del Gasto Específico',\n",
    "        'Clave Fuente de Financiamiento', 'Fuente de Financiamiento', 'Techo Comunicado', 'Monto Determinado', 'Adicional']\n",
    "base_2026 = pd.read_excel('HH_Index\\HH_Index\\Fases de anteproyecto 2026 actualización de componentes transversalidad (1).xlsx', skiprows=1, usecols=cols_2026,\n",
    "                          dtype={'Clave Unidad Presupuestal':str,\n",
    "                                'Unidad Presupuestal':str,\n",
    "                                'Clave Unidad Responsable':str,\n",
    "                                'Unidad Responsable':str,\n",
    "                                'Clave Programa Presupuestario':str,\n",
    "                                'Programa Presupuestario':str,\n",
    "                                'Clave Componente':str,\n",
    "                                'Componente':str,\n",
    "                                'Clave Destino del Gasto Específico':str,\n",
    "                                'Destino del Gasto Específico':str,\n",
    "                                'Clave Fuente de Financiamiento':str,\n",
    "                                'Fuente de Financiamiento':str,\n",
    "                                'Techo Comunicado':float,\n",
    "                                'Monto Determinado':float,\n",
    "                                'Adicional':float})\n",
    "\n",
    "base_2026 = base_2026.rename(columns={'Concepto Capitulo 2':' NOMBRE Capitulo 2',\n",
    "                              'Capitulo 2': 'CLAVE Capitulo 2'})\n",
    "base_2026['llave'] = base_2026['Clave Unidad Presupuestal'] + '_' + base_2026['Clave Unidad Responsable']"
   ]
  },
  {
   "cell_type": "markdown",
   "metadata": {},
   "source": [
    "#Análisis de cada PP con respecto a su UR"
   ]
  },
  {
   "cell_type": "code",
   "execution_count": 23,
   "metadata": {},
   "outputs": [
    {
     "data": {
      "application/vnd.microsoft.datawrangler.viewer.v0+json": {
       "columns": [
        {
         "name": "('llave', 'Clave Programa Presupuestario')",
         "rawType": "object",
         "type": "unknown"
        },
        {
         "name": "Monto Determinado",
         "rawType": "float64",
         "type": "float"
        },
        {
         "name": "Adicional",
         "rawType": "float64",
         "type": "float"
        },
        {
         "name": "prop",
         "rawType": "float64",
         "type": "float"
        }
       ],
       "ref": "e5b26f9a-24e5-4549-87ed-3554ab0c96bf",
       "rows": [
        [
         "('01_000', 'A01')",
         "7790003.0",
         "0.0",
         "1.0"
        ],
        [
         "('02_000', 'A02')",
         "528767891.0",
         "254071771.0",
         "0.9836142607720008"
        ],
        [
         "('02_000', 'SG1')",
         "8808588.0",
         "1150000.0",
         "0.016385739227999224"
        ],
        [
         "('02_117', 'SPC')",
         "321151271.0",
         "13412000.0",
         "1.0"
        ],
        [
         "('02_172', 'SJ7')",
         "100000000.0",
         "0.0",
         "1.0"
        ],
        [
         "('02_173', 'SJ1')",
         "5000000.0",
         "0.0",
         "1.0"
        ],
        [
         "('02_178', 'SCS')",
         "5271829.0",
         "100500.0",
         "1.0"
        ],
        [
         "('02_801', 'SBP')",
         "83773688.0",
         "21372419.02",
         "1.0"
        ],
        [
         "('02_805', 'SJ8')",
         "68553282.0",
         "24000000.0",
         "1.0"
        ],
        [
         "('03_000', 'A03')",
         "713966762.0",
         "0.0",
         "1.0"
        ],
        [
         "('03_183', 'A83')",
         "1385538426.0",
         "0.0",
         "1.0"
        ],
        [
         "('03_729', 'A3V')",
         "71500000.0",
         "59448303.49",
         "0.07800427406691506"
        ],
        [
         "('03_729', 'ST4')",
         "845116440.0",
         "1283841848.77",
         "0.921995725933085"
        ],
        [
         "('04_000', 'A04')",
         "1495349874.0",
         "0.0",
         "0.03573473719980833"
        ],
        [
         "('04_000', 'SE1')",
         "39927347131.0",
         "1043683919.0",
         "0.9541534604173887"
        ],
        [
         "('04_000', 'SE2')",
         "50412245.0",
         "38039455.0",
         "0.001204713597834129"
        ],
        [
         "('04_000', 'SE3')",
         "26526000.0",
         "15000000.0",
         "0.0006338982304031116"
        ],
        [
         "('04_000', 'SE4')",
         "2103000.0",
         "0.0",
         "5.0255899062721236e-05"
        ],
        [
         "('04_000', 'SE5')",
         "94471162.0",
         "50000000.0",
         "0.002257600181554915"
        ],
        [
         "('04_000', 'SE6')",
         "40981700.0",
         "0.0",
         "0.0009793495856484655"
        ],
        [
         "('04_000', 'SE7')",
         "121780000.0",
         "0.0",
         "0.0029102060807694686"
        ],
        [
         "('04_000', 'SE8')",
         "10356895.0",
         "0.0",
         "0.0002475012219320981"
        ],
        [
         "('04_000', 'SE9')",
         "76505800.0",
         "232000000.0",
         "0.0018282775855980686"
        ],
        [
         "('04_009', 'S4M')",
         "439700595.0",
         "20000000.0",
         "1.0"
        ],
        [
         "('04_010', 'S4N')",
         "685628217.0",
         "101422780.0",
         "1.0"
        ],
        [
         "('04_011', 'S4E')",
         "901923543.0",
         "320187644.0",
         "1.0"
        ],
        [
         "('04_013', 'S4D')",
         "178933071.0",
         "37717988.0",
         "1.0"
        ],
        [
         "('04_014', 'S4F')",
         "204418078.0",
         "12236715.0",
         "1.0"
        ],
        [
         "('04_268', 'SE0')",
         "3782610465.0",
         "0.0",
         "1.0"
        ],
        [
         "('05_000', 'A05')",
         "126211948.0",
         "413434945.0",
         "1.0"
        ],
        [
         "('05_016', 'A5J')",
         "266327184.0",
         "159600900.0",
         "0.01988838728286235"
        ],
        [
         "('05_016', 'S55')",
         "7753725743.0",
         "2460188881.86",
         "0.5790212555316306"
        ],
        [
         "('05_016', 'S56')",
         "3788806370.0",
         "0.0",
         "0.28293487467030726"
        ],
        [
         "('05_016', 'S57')",
         "1582230700.0",
         "1075978733.4",
         "0.11815548251519976"
        ],
        [
         "('05_017', 'S5C')",
         "6936429479.0",
         "2622553598.0",
         "1.0"
        ],
        [
         "('05_018', 'S5E')",
         "849236742.0",
         "0.0",
         "1.0"
        ],
        [
         "('05_019', 'A5T')",
         "11229925.0",
         "8851931.49",
         "1.0"
        ],
        [
         "('05_022', 'S52')",
         "11327089.0",
         "297909.0",
         "1.0"
        ],
        [
         "('05_149', 'S5M')",
         "31363763.0",
         "1100000.0",
         "1.0"
        ],
        [
         "('05_150', 'S5D')",
         "6499865.0",
         "2459613.0",
         "1.0"
        ],
        [
         "('05_151', 'A5V')",
         "15816347.0",
         "1305000.0",
         "1.0"
        ],
        [
         "('05_155', 'A5R')",
         "38755265.0",
         "3000000.0",
         "1.0"
        ],
        [
         "('05_185', 'S5U')",
         "41877042.0",
         "61883400.0",
         "1.0"
        ],
        [
         "('06_000', 'A06')",
         "665970904.0",
         "1884184840.0",
         "0.08330576169503023"
        ],
        [
         "('06_000', 'S60')",
         "4196137977.0",
         "14308000000.0",
         "0.5248915053974014"
        ],
        [
         "('06_000', 'S61')",
         "600000000.0",
         "397500000.0",
         "0.07505351467579752"
        ],
        [
         "('06_000', 'S62')",
         "925774900.0",
         "0.0",
         "0.1158044334060583"
        ],
        [
         "('06_000', 'S63')",
         "600000000.0",
         "396000000.0",
         "0.07505351467579752"
        ],
        [
         "('06_000', 'S64')",
         "1006412057.0",
         "9599652984.0",
         "0.1258912701499151"
        ],
        [
         "('07_000', 'A07')",
         "103242419.0",
         "37756600.0",
         "0.4922200048102365"
        ]
       ],
       "shape": {
        "columns": 3,
        "rows": 230
       }
      },
      "text/html": [
       "<div>\n",
       "<style scoped>\n",
       "    .dataframe tbody tr th:only-of-type {\n",
       "        vertical-align: middle;\n",
       "    }\n",
       "\n",
       "    .dataframe tbody tr th {\n",
       "        vertical-align: top;\n",
       "    }\n",
       "\n",
       "    .dataframe thead th {\n",
       "        text-align: right;\n",
       "    }\n",
       "</style>\n",
       "<table border=\"1\" class=\"dataframe\">\n",
       "  <thead>\n",
       "    <tr style=\"text-align: right;\">\n",
       "      <th></th>\n",
       "      <th></th>\n",
       "      <th>Monto Determinado</th>\n",
       "      <th>Adicional</th>\n",
       "      <th>prop</th>\n",
       "    </tr>\n",
       "    <tr>\n",
       "      <th>llave</th>\n",
       "      <th>Clave Programa Presupuestario</th>\n",
       "      <th></th>\n",
       "      <th></th>\n",
       "      <th></th>\n",
       "    </tr>\n",
       "  </thead>\n",
       "  <tbody>\n",
       "    <tr>\n",
       "      <th>01_000</th>\n",
       "      <th>A01</th>\n",
       "      <td>7790003.0</td>\n",
       "      <td>0.0</td>\n",
       "      <td>1.000000</td>\n",
       "    </tr>\n",
       "    <tr>\n",
       "      <th rowspan=\"2\" valign=\"top\">02_000</th>\n",
       "      <th>A02</th>\n",
       "      <td>528767891.0</td>\n",
       "      <td>254071771.0</td>\n",
       "      <td>0.983614</td>\n",
       "    </tr>\n",
       "    <tr>\n",
       "      <th>SG1</th>\n",
       "      <td>8808588.0</td>\n",
       "      <td>1150000.0</td>\n",
       "      <td>0.016386</td>\n",
       "    </tr>\n",
       "    <tr>\n",
       "      <th>02_117</th>\n",
       "      <th>SPC</th>\n",
       "      <td>321151271.0</td>\n",
       "      <td>13412000.0</td>\n",
       "      <td>1.000000</td>\n",
       "    </tr>\n",
       "    <tr>\n",
       "      <th>02_172</th>\n",
       "      <th>SJ7</th>\n",
       "      <td>100000000.0</td>\n",
       "      <td>0.0</td>\n",
       "      <td>1.000000</td>\n",
       "    </tr>\n",
       "    <tr>\n",
       "      <th>...</th>\n",
       "      <th>...</th>\n",
       "      <td>...</td>\n",
       "      <td>...</td>\n",
       "      <td>...</td>\n",
       "    </tr>\n",
       "    <tr>\n",
       "      <th>52_000</th>\n",
       "      <th>SJ9</th>\n",
       "      <td>37939460.0</td>\n",
       "      <td>2300540.0</td>\n",
       "      <td>1.000000</td>\n",
       "    </tr>\n",
       "    <tr>\n",
       "      <th>53_000</th>\n",
       "      <th>S53</th>\n",
       "      <td>704371249.0</td>\n",
       "      <td>0.0</td>\n",
       "      <td>1.000000</td>\n",
       "    </tr>\n",
       "    <tr>\n",
       "      <th>54_000</th>\n",
       "      <th>S5V</th>\n",
       "      <td>197963000.0</td>\n",
       "      <td>664000000.0</td>\n",
       "      <td>1.000000</td>\n",
       "    </tr>\n",
       "    <tr>\n",
       "      <th>57_000</th>\n",
       "      <th>SRT</th>\n",
       "      <td>75553197.0</td>\n",
       "      <td>42627081.0</td>\n",
       "      <td>1.000000</td>\n",
       "    </tr>\n",
       "    <tr>\n",
       "      <th>58_000</th>\n",
       "      <th>A58</th>\n",
       "      <td>150000000.0</td>\n",
       "      <td>100000000.0</td>\n",
       "      <td>1.000000</td>\n",
       "    </tr>\n",
       "  </tbody>\n",
       "</table>\n",
       "<p>230 rows × 3 columns</p>\n",
       "</div>"
      ],
      "text/plain": [
       "                                      Monto Determinado    Adicional      prop\n",
       "llave  Clave Programa Presupuestario                                          \n",
       "01_000 A01                                    7790003.0          0.0  1.000000\n",
       "02_000 A02                                  528767891.0  254071771.0  0.983614\n",
       "       SG1                                    8808588.0    1150000.0  0.016386\n",
       "02_117 SPC                                  321151271.0   13412000.0  1.000000\n",
       "02_172 SJ7                                  100000000.0          0.0  1.000000\n",
       "...                                                 ...          ...       ...\n",
       "52_000 SJ9                                   37939460.0    2300540.0  1.000000\n",
       "53_000 S53                                  704371249.0          0.0  1.000000\n",
       "54_000 S5V                                  197963000.0  664000000.0  1.000000\n",
       "57_000 SRT                                   75553197.0   42627081.0  1.000000\n",
       "58_000 A58                                  150000000.0  100000000.0  1.000000\n",
       "\n",
       "[230 rows x 3 columns]"
      ]
     },
     "execution_count": 23,
     "metadata": {},
     "output_type": "execute_result"
    }
   ],
   "source": [
    "PP_UR = base_2026.groupby(by=['llave', 'Clave Programa Presupuestario']).agg({'Monto Determinado':'sum', 'Adicional':'sum'})\n",
    "PP_UR['prop'] = (\n",
    "    PP_UR['Monto Determinado'] /\n",
    "    PP_UR.groupby(level=['llave'])['Monto Determinado'].transform('sum') \n",
    ")\n",
    "PP_UR"
   ]
  },
  {
   "cell_type": "code",
   "execution_count": 30,
   "metadata": {},
   "outputs": [
    {
     "name": "stderr",
     "output_type": "stream",
     "text": [
      "C:\\Users\\armando_cardenas\\AppData\\Local\\Temp\\ipykernel_8860\\3757382724.py:4: RuntimeWarning: invalid value encountered in scalar divide\n",
      "  .apply(lambda s: ((s**2).sum() - 1/len(s)) / (1 - 1/len(s))).rename('HHI')\n"
     ]
    },
    {
     "data": {
      "application/vnd.microsoft.datawrangler.viewer.v0+json": {
       "columns": [
        {
         "name": "llave",
         "rawType": "object",
         "type": "string"
        },
        {
         "name": "HHI",
         "rawType": "float64",
         "type": "float"
        }
       ],
       "ref": "1d287170-db95-4ebf-8858-a7eecd5802e4",
       "rows": [
        [
         "01_000",
         null
        ],
        [
         "02_000",
         "0.9355310128881951"
        ],
        [
         "02_117",
         null
        ],
        [
         "02_172",
         null
        ],
        [
         "02_173",
         null
        ],
        [
         "02_178",
         null
        ],
        [
         "02_801",
         null
        ],
        [
         "02_805",
         null
        ],
        [
         "03_000",
         null
        ],
        [
         "03_183",
         null
        ],
        [
         "03_729",
         "0.7123215708231654"
        ],
        [
         "04_000",
         "0.9018950913289994"
        ],
        [
         "04_009",
         null
        ],
        [
         "04_010",
         null
        ],
        [
         "04_011",
         null
        ],
        [
         "04_013",
         null
        ],
        [
         "04_014",
         null
        ],
        [
         "04_268",
         null
        ],
        [
         "05_000",
         null
        ],
        [
         "05_016",
         "0.23956536487898825"
        ],
        [
         "05_017",
         null
        ],
        [
         "05_018",
         null
        ],
        [
         "05_019",
         null
        ],
        [
         "05_022",
         null
        ],
        [
         "05_149",
         null
        ],
        [
         "05_150",
         null
        ],
        [
         "05_151",
         null
        ],
        [
         "05_155",
         null
        ],
        [
         "05_185",
         null
        ],
        [
         "06_000",
         "0.18757153743613228"
        ],
        [
         "07_000",
         "0.14450946845943977"
        ],
        [
         "07_031",
         null
        ],
        [
         "07_244",
         null
        ],
        [
         "08_000",
         "0.4964702453772061"
        ],
        [
         "08_034",
         null
        ],
        [
         "08_035",
         null
        ],
        [
         "08_036",
         null
        ],
        [
         "08_215",
         null
        ],
        [
         "09_000",
         "0.10915147623402892"
        ],
        [
         "09_038",
         "0.3891206921382646"
        ],
        [
         "09_190",
         null
        ],
        [
         "09_225",
         null
        ],
        [
         "10_000",
         "0.6794024567230665"
        ],
        [
         "10_025",
         null
        ],
        [
         "10_042",
         null
        ],
        [
         "10_043",
         null
        ],
        [
         "10_082",
         null
        ],
        [
         "10_156",
         null
        ],
        [
         "10_174",
         null
        ],
        [
         "10_799",
         null
        ]
       ],
       "shape": {
        "columns": 1,
        "rows": 135
       }
      },
      "text/plain": [
       "llave\n",
       "01_000         NaN\n",
       "02_000    0.935531\n",
       "02_117         NaN\n",
       "02_172         NaN\n",
       "02_173         NaN\n",
       "            ...   \n",
       "52_000         NaN\n",
       "53_000         NaN\n",
       "54_000         NaN\n",
       "57_000         NaN\n",
       "58_000         NaN\n",
       "Name: HHI, Length: 135, dtype: float64"
      ]
     },
     "execution_count": 30,
     "metadata": {},
     "output_type": "execute_result"
    }
   ],
   "source": [
    "#Indice HH\n",
    "PP_UR_HHI_N = (\n",
    "    PP_UR.groupby(level=\"llave\")[\"prop\"]\n",
    "    .apply(lambda s: ((s**2).sum() - 1/len(s)) / (1 - 1/len(s))).rename('HHI')\n",
    ")\n",
    "PP_UR_HHI_N"
   ]
  },
  {
   "cell_type": "markdown",
   "metadata": {},
   "source": [
    "Análisis de cada comp con respecro a su PP"
   ]
  },
  {
   "cell_type": "code",
   "execution_count": 15,
   "metadata": {},
   "outputs": [
    {
     "data": {
      "application/vnd.microsoft.datawrangler.viewer.v0+json": {
       "columns": [
        {
         "name": "('llave', 'Clave Programa Presupuestario', 'Clave Componente')",
         "rawType": "object",
         "type": "unknown"
        },
        {
         "name": "Monto Determinado",
         "rawType": "float64",
         "type": "float"
        },
        {
         "name": "prop",
         "rawType": "float64",
         "type": "float"
        }
       ],
       "ref": "0a8af4ab-2776-4aff-992e-91e2e3afb6c5",
       "rows": [
        [
         "('01_000', 'A01', '01')",
         "7500052.0",
         "0.9627790900722375"
        ],
        [
         "('01_000', 'A01', '02')",
         "289951.0",
         "0.037220909927762544"
        ],
        [
         "('02_000', 'A02', '04')",
         "435155.0",
         "0.0008229603336485497"
        ],
        [
         "('02_000', 'A02', '05')",
         "6582270.0",
         "0.012448316382357641"
        ],
        [
         "('02_000', 'A02', '08')",
         "108330.0",
         "0.00020487250047488228"
        ],
        [
         "('02_000', 'A02', '10')",
         "3055160.0",
         "0.005777884875388548"
        ],
        [
         "('02_000', 'A02', '12')",
         "189880.0",
         "0.0003590989604926673"
        ],
        [
         "('02_000', 'A02', '15')",
         "322559.0",
         "0.000610020021053056"
        ],
        [
         "('02_000', 'A02', '16')",
         "435811037.0",
         "0.8242010235829543"
        ],
        [
         "('02_000', 'A02', '18')",
         "1060470.0",
         "0.0020055491606996993"
        ],
        [
         "('02_000', 'A02', '19')",
         "1320480.0",
         "0.0024972772032407693"
        ],
        [
         "('02_000', 'A02', '20')",
         "677880.0",
         "0.0012819991749461201"
        ],
        [
         "('02_000', 'A02', '21')",
         "82740.0",
         "0.0001564769748849973"
        ],
        [
         "('02_000', 'A02', '26')",
         "348156.0",
         "0.0006584287849656892"
        ],
        [
         "('02_000', 'A02', 'A3')",
         "767040.0",
         "0.0014506175829802797"
        ],
        [
         "('02_000', 'A02', 'C1')",
         "988803.0",
         "0.0018700133212135605"
        ],
        [
         "('02_000', 'A02', 'C2')",
         "19958.0",
         "3.774434934438937e-05"
        ],
        [
         "('02_000', 'A02', 'C3')",
         "1720660.0",
         "0.0032540932028718816"
        ],
        [
         "('02_000', 'A02', 'C4')",
         "3817312.0",
         "0.00721925832671258"
        ],
        [
         "('02_000', 'A02', 'C5')",
         "63747661.0",
         "0.1205588729668156"
        ],
        [
         "('02_000', 'A02', 'C6')",
         "36920.0",
         "6.982269655250304e-05"
        ],
        [
         "('02_000', 'A02', 'C7')",
         "2634360.0",
         "0.004982072559318849"
        ],
        [
         "('02_000', 'A02', 'C9')",
         "493320.0",
         "0.0009329613397421667"
        ],
        [
         "('02_000', 'A02', 'E2')",
         "86900.0",
         "0.0001643443209754202"
        ],
        [
         "('02_000', 'A02', 'E3')",
         "2112000.0",
         "0.003994191092060845"
        ],
        [
         "('02_000', 'A02', 'E4')",
         "128520.0",
         "0.00024305560565892985"
        ],
        [
         "('02_000', 'A02', 'E5')",
         "179090.0",
         "0.0003386930315706329"
        ],
        [
         "('02_000', 'A02', 'E6')",
         "347270.0",
         "0.0006567531915435463"
        ],
        [
         "('02_000', 'A02', 'E7')",
         "1693960.0",
         "0.003203598457531908"
        ],
        [
         "('02_000', 'SG1', 'C0')",
         "287300.0",
         "0.032615897122217546"
        ],
        [
         "('02_000', 'SG1', 'C1')",
         "600000.0",
         "0.06811534379857476"
        ],
        [
         "('02_000', 'SG1', 'C2')",
         "150000.0",
         "0.01702883594964369"
        ],
        [
         "('02_000', 'SG1', 'C3')",
         "300000.0",
         "0.03405767189928738"
        ],
        [
         "('02_000', 'SG1', 'C4')",
         "100000.0",
         "0.011352557299762459"
        ],
        [
         "('02_000', 'SG1', 'C5')",
         "480000.0",
         "0.054492275038859804"
        ],
        [
         "('02_000', 'SG1', 'C6')",
         "270000.0",
         "0.03065190470935864"
        ],
        [
         "('02_000', 'SG1', 'C7')",
         "100000.0",
         "0.011352557299762459"
        ],
        [
         "('02_000', 'SG1', 'C8')",
         "150000.0",
         "0.01702883594964369"
        ],
        [
         "('02_000', 'SG1', 'C9')",
         "150000.0",
         "0.01702883594964369"
        ],
        [
         "('02_000', 'SG1', 'CA')",
         "150000.0",
         "0.01702883594964369"
        ],
        [
         "('02_000', 'SG1', 'CB')",
         "150000.0",
         "0.01702883594964369"
        ],
        [
         "('02_000', 'SG1', 'CC')",
         "150000.0",
         "0.01702883594964369"
        ],
        [
         "('02_000', 'SG1', 'CD')",
         "150000.0",
         "0.01702883594964369"
        ],
        [
         "('02_000', 'SG1', 'CE')",
         "150000.0",
         "0.01702883594964369"
        ],
        [
         "('02_000', 'SG1', 'CF')",
         "5321288.0",
         "0.6041022692853838"
        ],
        [
         "('02_000', 'SG1', 'CG')",
         "150000.0",
         "0.01702883594964369"
        ],
        [
         "('02_117', 'SPC', 'C1')",
         "14323228.0",
         "0.044599630433970784"
        ],
        [
         "('02_117', 'SPC', 'C2')",
         "5106057.0",
         "0.01589922712776684"
        ],
        [
         "('02_117', 'SPC', 'C3')",
         "6603070.0",
         "0.02056062234921063"
        ],
        [
         "('02_117', 'SPC', 'C5')",
         "227030537.0",
         "0.7069271010295954"
        ]
       ],
       "shape": {
        "columns": 2,
        "rows": 1049
       }
      },
      "text/html": [
       "<div>\n",
       "<style scoped>\n",
       "    .dataframe tbody tr th:only-of-type {\n",
       "        vertical-align: middle;\n",
       "    }\n",
       "\n",
       "    .dataframe tbody tr th {\n",
       "        vertical-align: top;\n",
       "    }\n",
       "\n",
       "    .dataframe thead th {\n",
       "        text-align: right;\n",
       "    }\n",
       "</style>\n",
       "<table border=\"1\" class=\"dataframe\">\n",
       "  <thead>\n",
       "    <tr style=\"text-align: right;\">\n",
       "      <th></th>\n",
       "      <th></th>\n",
       "      <th></th>\n",
       "      <th>Monto Determinado</th>\n",
       "      <th>prop</th>\n",
       "    </tr>\n",
       "    <tr>\n",
       "      <th>llave</th>\n",
       "      <th>Clave Programa Presupuestario</th>\n",
       "      <th>Clave Componente</th>\n",
       "      <th></th>\n",
       "      <th></th>\n",
       "    </tr>\n",
       "  </thead>\n",
       "  <tbody>\n",
       "    <tr>\n",
       "      <th rowspan=\"2\" valign=\"top\">01_000</th>\n",
       "      <th rowspan=\"2\" valign=\"top\">A01</th>\n",
       "      <th>01</th>\n",
       "      <td>7500052.0</td>\n",
       "      <td>0.962779</td>\n",
       "    </tr>\n",
       "    <tr>\n",
       "      <th>02</th>\n",
       "      <td>289951.0</td>\n",
       "      <td>0.037221</td>\n",
       "    </tr>\n",
       "    <tr>\n",
       "      <th rowspan=\"3\" valign=\"top\">02_000</th>\n",
       "      <th rowspan=\"3\" valign=\"top\">A02</th>\n",
       "      <th>04</th>\n",
       "      <td>435155.0</td>\n",
       "      <td>0.000823</td>\n",
       "    </tr>\n",
       "    <tr>\n",
       "      <th>05</th>\n",
       "      <td>6582270.0</td>\n",
       "      <td>0.012448</td>\n",
       "    </tr>\n",
       "    <tr>\n",
       "      <th>08</th>\n",
       "      <td>108330.0</td>\n",
       "      <td>0.000205</td>\n",
       "    </tr>\n",
       "    <tr>\n",
       "      <th>...</th>\n",
       "      <th>...</th>\n",
       "      <th>...</th>\n",
       "      <td>...</td>\n",
       "      <td>...</td>\n",
       "    </tr>\n",
       "    <tr>\n",
       "      <th rowspan=\"4\" valign=\"top\">57_000</th>\n",
       "      <th rowspan=\"4\" valign=\"top\">SRT</th>\n",
       "      <th>A1</th>\n",
       "      <td>4567144.0</td>\n",
       "      <td>0.060449</td>\n",
       "    </tr>\n",
       "    <tr>\n",
       "      <th>A2</th>\n",
       "      <td>51535935.0</td>\n",
       "      <td>0.682115</td>\n",
       "    </tr>\n",
       "    <tr>\n",
       "      <th>A3</th>\n",
       "      <td>600050.0</td>\n",
       "      <td>0.007942</td>\n",
       "    </tr>\n",
       "    <tr>\n",
       "      <th>A4</th>\n",
       "      <td>18850068.0</td>\n",
       "      <td>0.249494</td>\n",
       "    </tr>\n",
       "    <tr>\n",
       "      <th>58_000</th>\n",
       "      <th>A58</th>\n",
       "      <th>C1</th>\n",
       "      <td>150000000.0</td>\n",
       "      <td>1.000000</td>\n",
       "    </tr>\n",
       "  </tbody>\n",
       "</table>\n",
       "<p>1049 rows × 2 columns</p>\n",
       "</div>"
      ],
      "text/plain": [
       "                                                       Monto Determinado  \\\n",
       "llave  Clave Programa Presupuestario Clave Componente                      \n",
       "01_000 A01                           01                        7500052.0   \n",
       "                                     02                         289951.0   \n",
       "02_000 A02                           04                         435155.0   \n",
       "                                     05                        6582270.0   \n",
       "                                     08                         108330.0   \n",
       "...                                                                  ...   \n",
       "57_000 SRT                           A1                        4567144.0   \n",
       "                                     A2                       51535935.0   \n",
       "                                     A3                         600050.0   \n",
       "                                     A4                       18850068.0   \n",
       "58_000 A58                           C1                      150000000.0   \n",
       "\n",
       "                                                           prop  \n",
       "llave  Clave Programa Presupuestario Clave Componente            \n",
       "01_000 A01                           01                0.962779  \n",
       "                                     02                0.037221  \n",
       "02_000 A02                           04                0.000823  \n",
       "                                     05                0.012448  \n",
       "                                     08                0.000205  \n",
       "...                                                         ...  \n",
       "57_000 SRT                           A1                0.060449  \n",
       "                                     A2                0.682115  \n",
       "                                     A3                0.007942  \n",
       "                                     A4                0.249494  \n",
       "58_000 A58                           C1                1.000000  \n",
       "\n",
       "[1049 rows x 2 columns]"
      ]
     },
     "execution_count": 15,
     "metadata": {},
     "output_type": "execute_result"
    }
   ],
   "source": [
    "COMP_UR = base_2026.groupby(by=['llave', 'Clave Programa Presupuestario', 'Clave Componente']).agg({'Monto Determinado':'sum'})\n",
    "COMP_UR['prop'] = (\n",
    "    COMP_UR['Monto Determinado'] /\n",
    "    COMP_UR.groupby(level=['llave', 'Clave Programa Presupuestario'])['Monto Determinado'].transform('sum')\n",
    ")\n",
    "COMP_UR"
   ]
  },
  {
   "cell_type": "code",
   "execution_count": 29,
   "metadata": {},
   "outputs": [
    {
     "name": "stderr",
     "output_type": "stream",
     "text": [
      "C:\\Users\\armando_cardenas\\AppData\\Local\\Temp\\ipykernel_8860\\1907271219.py:3: RuntimeWarning: invalid value encountered in scalar divide\n",
      "  .apply(lambda s: ((s**2).sum() - 1/len(s)) / (1 - 1/len(s))).rename('HHI')\n"
     ]
    },
    {
     "data": {
      "application/vnd.microsoft.datawrangler.viewer.v0+json": {
       "columns": [
        {
         "name": "('llave', 'Clave Programa Presupuestario')",
         "rawType": "object",
         "type": "unknown"
        },
        {
         "name": "HHI",
         "rawType": "float64",
         "type": "float"
        }
       ],
       "ref": "1c34f258-b718-4522-9fa0-d2ac0fa0f757",
       "rows": [
        [
         "('01_000', 'A01')",
         "0.8566579448323526"
        ],
        [
         "('02_000', 'A02')",
         "0.6824016467024351"
        ],
        [
         "('02_000', 'SG1')",
         "0.3397407328565416"
        ],
        [
         "('02_117', 'SPC')",
         "0.445289446889051"
        ],
        [
         "('02_172', 'SJ7')",
         "0.36977095999999987"
        ],
        [
         "('02_173', 'SJ1')",
         "0.3600000000000003"
        ],
        [
         "('02_178', 'SCS')",
         "0.036492316052072704"
        ],
        [
         "('02_801', 'SBP')",
         "0.13828261302632003"
        ],
        [
         "('02_805', 'SJ8')",
         "0.639917236710163"
        ],
        [
         "('03_000', 'A03')",
         "0.312579771161151"
        ],
        [
         "('03_183', 'A83')",
         "0.5208432779405828"
        ],
        [
         "('03_729', 'A3V')",
         "0.1125333333333333"
        ],
        [
         "('03_729', 'ST4')",
         "0.6687585502692617"
        ],
        [
         "('04_000', 'A04')",
         "0.3043613518219603"
        ],
        [
         "('04_000', 'SE1')",
         "0.9937093968712197"
        ],
        [
         "('04_000', 'SE2')",
         "0.15343461857208585"
        ],
        [
         "('04_000', 'SE3')",
         "0.7857954271323644"
        ],
        [
         "('04_000', 'SE4')",
         "0.11174603045396947"
        ],
        [
         "('04_000', 'SE5')",
         "0.8679619381572592"
        ],
        [
         "('04_000', 'SE6')",
         "0.1779924872447682"
        ],
        [
         "('04_000', 'SE7')",
         "0.47566354687902884"
        ],
        [
         "('04_000', 'SE8')",
         "0.4977446337442353"
        ],
        [
         "('04_000', 'SE9')",
         "0.15602154543363964"
        ],
        [
         "('04_009', 'S4M')",
         "0.9979542388331684"
        ],
        [
         "('04_010', 'S4N')",
         "0.39558058404143015"
        ],
        [
         "('04_011', 'S4E')",
         "0.2687479894158841"
        ],
        [
         "('04_013', 'S4D')",
         "0.9916713511697784"
        ],
        [
         "('04_014', 'S4F')",
         "0.18039763216964655"
        ],
        [
         "('04_268', 'SE0')",
         "0.5153307866040451"
        ],
        [
         "('05_000', 'A05')",
         "0.8728533761436281"
        ],
        [
         "('05_016', 'A5J')",
         "0.41721649233911023"
        ],
        [
         "('05_016', 'S55')",
         "0.9890941121784992"
        ],
        [
         "('05_016', 'S56')",
         "0.9695584845285946"
        ],
        [
         "('05_016', 'S57')",
         "0.15172819692904524"
        ],
        [
         "('05_017', 'S5C')",
         "0.8646618690070375"
        ],
        [
         "('05_018', 'S5E')",
         "0.15944553327855468"
        ],
        [
         "('05_019', 'A5T')",
         "0.646639655211895"
        ],
        [
         "('05_022', 'S52')",
         "0.13343128625412803"
        ],
        [
         "('05_149', 'S5M')",
         "0.7592941131132803"
        ],
        [
         "('05_150', 'S5D')",
         "0.5158867476968797"
        ],
        [
         "('05_151', 'A5V')",
         "0.2950659845986177"
        ],
        [
         "('05_155', 'A5R')",
         "0.18477169518517403"
        ],
        [
         "('05_185', 'S5U')",
         "0.867392313144646"
        ],
        [
         "('06_000', 'A06')",
         "0.1878635581051285"
        ],
        [
         "('06_000', 'S60')",
         "0.5242313409870291"
        ],
        [
         "('06_000', 'S61')",
         "0.6400000000000001"
        ],
        [
         "('06_000', 'S62')",
         "0.027429004423420444"
        ],
        [
         "('06_000', 'S63')",
         "0.6400000000000001"
        ],
        [
         "('06_000', 'S64')",
         "0.9744032856483426"
        ],
        [
         "('07_000', 'A07')",
         "0.6172341306815451"
        ]
       ],
       "shape": {
        "columns": 1,
        "rows": 230
       }
      },
      "text/plain": [
       "llave   Clave Programa Presupuestario\n",
       "01_000  A01                              0.856658\n",
       "02_000  A02                              0.682402\n",
       "        SG1                              0.339741\n",
       "02_117  SPC                              0.445289\n",
       "02_172  SJ7                              0.369771\n",
       "                                           ...   \n",
       "52_000  SJ9                              0.068930\n",
       "53_000  S53                              0.244733\n",
       "54_000  S5V                              0.120140\n",
       "57_000  SRT                              0.374993\n",
       "58_000  A58                                   NaN\n",
       "Name: HHI, Length: 230, dtype: float64"
      ]
     },
     "execution_count": 29,
     "metadata": {},
     "output_type": "execute_result"
    }
   ],
   "source": [
    "COMO_UR_HHI_N = (\n",
    "    COMP_UR.groupby(level=['llave', 'Clave Programa Presupuestario'])[\"prop\"]\n",
    "    .apply(lambda s: ((s**2).sum() - 1/len(s)) / (1 - 1/len(s))).rename('HHI')\n",
    ")\n",
    "COMO_UR_HHI_N"
   ]
  },
  {
   "cell_type": "code",
   "execution_count": null,
   "metadata": {},
   "outputs": [
    {
     "data": {
      "text/html": [
       "<div>\n",
       "<style scoped>\n",
       "    .dataframe tbody tr th:only-of-type {\n",
       "        vertical-align: middle;\n",
       "    }\n",
       "\n",
       "    .dataframe tbody tr th {\n",
       "        vertical-align: top;\n",
       "    }\n",
       "\n",
       "    .dataframe thead th {\n",
       "        text-align: right;\n",
       "    }\n",
       "</style>\n",
       "<table border=\"1\" class=\"dataframe\">\n",
       "  <thead>\n",
       "    <tr style=\"text-align: right;\">\n",
       "      <th></th>\n",
       "      <th>Clave Unidad Presupuestal</th>\n",
       "      <th>Unidad Presupuestal</th>\n",
       "      <th>Clave Unidad Responsable</th>\n",
       "      <th>Unidad Responsable</th>\n",
       "      <th>Clave Programa Presupuestario</th>\n",
       "      <th>Programa Presupuestario</th>\n",
       "      <th>Clave Componente</th>\n",
       "      <th>Componente</th>\n",
       "      <th>Clave Destino del Gasto Específico</th>\n",
       "      <th>Destino del Gasto Específico</th>\n",
       "      <th>Clave Fuente de Financiamiento</th>\n",
       "      <th>Fuente de Financiamiento</th>\n",
       "      <th>Techo Comunicado</th>\n",
       "      <th>Monto Determinado</th>\n",
       "      <th>Adicional</th>\n",
       "      <th>llave</th>\n",
       "    </tr>\n",
       "  </thead>\n",
       "  <tbody>\n",
       "    <tr>\n",
       "      <th>0</th>\n",
       "      <td>01</td>\n",
       "      <td>Despacho del Gobernador</td>\n",
       "      <td>000</td>\n",
       "      <td>Despacho del Gobernador</td>\n",
       "      <td>A01</td>\n",
       "      <td>Atención Integral del Despacho del C. Gobernador</td>\n",
       "      <td>01</td>\n",
       "      <td>Gastos básicos para la operación</td>\n",
       "      <td>00</td>\n",
       "      <td>(Sin destino)</td>\n",
       "      <td>15</td>\n",
       "      <td>Recursos Federales</td>\n",
       "      <td>4127904.0</td>\n",
       "      <td>4127904.0</td>\n",
       "      <td>0.0</td>\n",
       "      <td>01_000</td>\n",
       "    </tr>\n",
       "    <tr>\n",
       "      <th>1</th>\n",
       "      <td>01</td>\n",
       "      <td>Despacho del Gobernador</td>\n",
       "      <td>000</td>\n",
       "      <td>Despacho del Gobernador</td>\n",
       "      <td>A01</td>\n",
       "      <td>Atención Integral del Despacho del C. Gobernador</td>\n",
       "      <td>01</td>\n",
       "      <td>Gastos básicos para la operación</td>\n",
       "      <td>00</td>\n",
       "      <td>(Sin destino)</td>\n",
       "      <td>15</td>\n",
       "      <td>Recursos Federales</td>\n",
       "      <td>26933.0</td>\n",
       "      <td>26933.0</td>\n",
       "      <td>0.0</td>\n",
       "      <td>01_000</td>\n",
       "    </tr>\n",
       "    <tr>\n",
       "      <th>2</th>\n",
       "      <td>01</td>\n",
       "      <td>Despacho del Gobernador</td>\n",
       "      <td>000</td>\n",
       "      <td>Despacho del Gobernador</td>\n",
       "      <td>A01</td>\n",
       "      <td>Atención Integral del Despacho del C. Gobernador</td>\n",
       "      <td>02</td>\n",
       "      <td>Atención Integral del Despacho del C. Gobernador</td>\n",
       "      <td>00</td>\n",
       "      <td>(Sin destino)</td>\n",
       "      <td>15</td>\n",
       "      <td>Recursos Federales</td>\n",
       "      <td>57337.0</td>\n",
       "      <td>57337.0</td>\n",
       "      <td>0.0</td>\n",
       "      <td>01_000</td>\n",
       "    </tr>\n",
       "    <tr>\n",
       "      <th>3</th>\n",
       "      <td>01</td>\n",
       "      <td>Despacho del Gobernador</td>\n",
       "      <td>000</td>\n",
       "      <td>Despacho del Gobernador</td>\n",
       "      <td>A01</td>\n",
       "      <td>Atención Integral del Despacho del C. Gobernador</td>\n",
       "      <td>01</td>\n",
       "      <td>Gastos básicos para la operación</td>\n",
       "      <td>00</td>\n",
       "      <td>(Sin destino)</td>\n",
       "      <td>15</td>\n",
       "      <td>Recursos Federales</td>\n",
       "      <td>573326.0</td>\n",
       "      <td>573326.0</td>\n",
       "      <td>0.0</td>\n",
       "      <td>01_000</td>\n",
       "    </tr>\n",
       "    <tr>\n",
       "      <th>4</th>\n",
       "      <td>01</td>\n",
       "      <td>Despacho del Gobernador</td>\n",
       "      <td>000</td>\n",
       "      <td>Despacho del Gobernador</td>\n",
       "      <td>A01</td>\n",
       "      <td>Atención Integral del Despacho del C. Gobernador</td>\n",
       "      <td>01</td>\n",
       "      <td>Gastos básicos para la operación</td>\n",
       "      <td>00</td>\n",
       "      <td>(Sin destino)</td>\n",
       "      <td>15</td>\n",
       "      <td>Recursos Federales</td>\n",
       "      <td>161883.0</td>\n",
       "      <td>161883.0</td>\n",
       "      <td>0.0</td>\n",
       "      <td>01_000</td>\n",
       "    </tr>\n",
       "  </tbody>\n",
       "</table>\n",
       "</div>"
      ],
      "text/plain": [
       "  Clave Unidad Presupuestal      Unidad Presupuestal Clave Unidad Responsable  \\\n",
       "0                        01  Despacho del Gobernador                      000   \n",
       "1                        01  Despacho del Gobernador                      000   \n",
       "2                        01  Despacho del Gobernador                      000   \n",
       "3                        01  Despacho del Gobernador                      000   \n",
       "4                        01  Despacho del Gobernador                      000   \n",
       "\n",
       "        Unidad Responsable Clave Programa Presupuestario  \\\n",
       "0  Despacho del Gobernador                           A01   \n",
       "1  Despacho del Gobernador                           A01   \n",
       "2  Despacho del Gobernador                           A01   \n",
       "3  Despacho del Gobernador                           A01   \n",
       "4  Despacho del Gobernador                           A01   \n",
       "\n",
       "                            Programa Presupuestario Clave Componente  \\\n",
       "0  Atención Integral del Despacho del C. Gobernador               01   \n",
       "1  Atención Integral del Despacho del C. Gobernador               01   \n",
       "2  Atención Integral del Despacho del C. Gobernador               02   \n",
       "3  Atención Integral del Despacho del C. Gobernador               01   \n",
       "4  Atención Integral del Despacho del C. Gobernador               01   \n",
       "\n",
       "                                         Componente  \\\n",
       "0                  Gastos básicos para la operación   \n",
       "1                  Gastos básicos para la operación   \n",
       "2  Atención Integral del Despacho del C. Gobernador   \n",
       "3                  Gastos básicos para la operación   \n",
       "4                  Gastos básicos para la operación   \n",
       "\n",
       "  Clave Destino del Gasto Específico Destino del Gasto Específico  \\\n",
       "0                                 00                (Sin destino)   \n",
       "1                                 00                (Sin destino)   \n",
       "2                                 00                (Sin destino)   \n",
       "3                                 00                (Sin destino)   \n",
       "4                                 00                (Sin destino)   \n",
       "\n",
       "  Clave Fuente de Financiamiento Fuente de Financiamiento  Techo Comunicado  \\\n",
       "0                             15       Recursos Federales         4127904.0   \n",
       "1                             15       Recursos Federales           26933.0   \n",
       "2                             15       Recursos Federales           57337.0   \n",
       "3                             15       Recursos Federales          573326.0   \n",
       "4                             15       Recursos Federales          161883.0   \n",
       "\n",
       "   Monto Determinado  Adicional   llave  \n",
       "0          4127904.0        0.0  01_000  \n",
       "1            26933.0        0.0  01_000  \n",
       "2            57337.0        0.0  01_000  \n",
       "3           573326.0        0.0  01_000  \n",
       "4           161883.0        0.0  01_000  "
      ]
     },
     "execution_count": 9,
     "metadata": {},
     "output_type": "execute_result"
    }
   ],
   "source": [
    "\n",
    "base_2026.head()"
   ]
  },
  {
   "cell_type": "code",
   "execution_count": null,
   "metadata": {},
   "outputs": [],
   "source": []
  }
 ],
 "metadata": {
  "kernelspec": {
   "display_name": "base",
   "language": "python",
   "name": "python3"
  },
  "language_info": {
   "codemirror_mode": {
    "name": "ipython",
    "version": 3
   },
   "file_extension": ".py",
   "mimetype": "text/x-python",
   "name": "python",
   "nbconvert_exporter": "python",
   "pygments_lexer": "ipython3",
   "version": "3.12.7"
  }
 },
 "nbformat": 4,
 "nbformat_minor": 2
}
